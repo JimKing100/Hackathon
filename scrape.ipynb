{
 "cells": [
  {
   "cell_type": "code",
   "execution_count": 1,
   "metadata": {},
   "outputs": [],
   "source": [
    "import re\n",
    "import string\n",
    "from collections import Counter\n",
    "import squarify\n",
    "import matplotlib.pyplot as plt\n",
    "\n",
    "from sklearn.feature_extraction.text import CountVectorizer, TfidfVectorizer\n",
    "import matplotlib.pyplot as plt\n",
    "import pandas as pd\n",
    "import numpy as np\n",
    "import spacy\n",
    "from spacy.tokenizer import Tokenizer\n",
    "\n",
    "from bs4 import BeautifulSoup\n",
    "import html as ihtml\n",
    "\n",
    "import requests"
   ]
  },
  {
   "cell_type": "code",
   "execution_count": 2,
   "metadata": {},
   "outputs": [],
   "source": [
    "def extract_job_title(soup):\n",
    "    jobs = []\n",
    "    for div in soup.find_all(name=\"div\", attrs={\"class\":\"row\"}):\n",
    "        for a in div.find_all(name=\"a\", attrs={\"data-tn-element\":\"jobTitle\"}):\n",
    "            jobs.append(a[\"title\"])\n",
    "    return(jobs)"
   ]
  },
  {
   "cell_type": "code",
   "execution_count": 3,
   "metadata": {},
   "outputs": [],
   "source": [
    "def extract_company(soup):\n",
    "    companies = []\n",
    "    for div in soup.find_all(name=\"div\", attrs={\"class\":\"row\"}):\n",
    "        company = div.find_all(name=\"span\", attrs={\"class\":\"company\"})\n",
    "        if len(company) > 0:\n",
    "            for b in company:\n",
    "                companies.append(b.text.strip())\n",
    "        else:\n",
    "            sec_try = div.find_all(name=\"span\", attrs={\"class\":\"result-linl-source\"})\n",
    "            for span in sec_try:\n",
    "                companies.append(span.text.strip())\n",
    "    return(companies)"
   ]
  },
  {
   "cell_type": "code",
   "execution_count": 4,
   "metadata": {},
   "outputs": [],
   "source": [
    "def extract_location(soup):\n",
    "    locations = []\n",
    "    for div in soup.find_all(name=\"div\", attrs={\"class\":\"row\"}):\n",
    "        try:\n",
    "            locations.append(div.find(name=\"span\", attrs={\"class\":\"location\"}).text)\n",
    "        except:\n",
    "            locations.append(\"None\")\n",
    "    return(locations)"
   ]
  },
  {
   "cell_type": "code",
   "execution_count": 5,
   "metadata": {},
   "outputs": [],
   "source": [
    "def extract_salary(soup):\n",
    "    salaries = []\n",
    "    for div in soup.find_all(name=\"div\", attrs={\"class\":\"row\"}):\n",
    "        try:\n",
    "            salaries.append(div.find(name=\"span\", attrs={\"class\":\"salaryText\"}).text.replace(\"\\n\",\"\"))\n",
    "        except:\n",
    "            salaries.append(\"None\")\n",
    "    return(salaries)"
   ]
  },
  {
   "cell_type": "code",
   "execution_count": 6,
   "metadata": {},
   "outputs": [],
   "source": [
    "def extract_job_title(soup):\n",
    "    jobs = []\n",
    "    for div in soup.find_all(name=\"div\", attrs={\"class\":\"row\"}):\n",
    "        for a in div.find_all(name=\"a\", attrs={\"data-tn-element\":\"jobTitle\"}):\n",
    "            jobs.append(a[\"title\"])\n",
    "    return(jobs)"
   ]
  },
  {
   "cell_type": "code",
   "execution_count": 7,
   "metadata": {},
   "outputs": [],
   "source": [
    "def extract_url(soup):\n",
    "    urls = []\n",
    "    for div1 in soup.find_all(name=\"div\", attrs={\"class\":\"row\"}):\n",
    "        for div2 in div1.find_all(name=\"div\", attrs={\"class\":\"title\"}):\n",
    "            for a in div2.find_all(name=\"a\", href=True):\n",
    "                urls.append(a['href'])\n",
    "    return(urls)\n",
    "\n",
    "def extract_desc(urls):\n",
    "    descs = []\n",
    "    for url in urls:\n",
    "        full_url = \"https://www.indeed.com\" + url\n",
    "        detail_page = requests.get(full_url)\n",
    "        detail_soup = BeautifulSoup(detail_page.text, \"html.parser\")\n",
    "        \n",
    "        for div in detail_soup.find_all(name=\"div\", attrs={\"id\":\"jobDescriptionText\"}):\n",
    "            descs.append(div.text)\n",
    "    return(descs)"
   ]
  },
  {
   "cell_type": "code",
   "execution_count": 8,
   "metadata": {},
   "outputs": [],
   "source": [
    "def extract_count(soup):\n",
    "    for div in soup.find_all(name=\"div\", attrs={\"id\":\"searchCountPages\"}):\n",
    "        temp_str = div.text.replace(\" \", \"\")\n",
    "        count_str = re.search('of(.*)jobs', temp_str) \n",
    "        count = int(count_str.group(1))\n",
    "    return(count)"
   ]
  },
  {
   "cell_type": "code",
   "execution_count": 9,
   "metadata": {},
   "outputs": [
    {
     "name": "stdout",
     "output_type": "stream",
     "text": [
      "933\n",
      "https://www.indeed.com/jobs?q=data+scientist&l=San+Francisco%2C+CA&start=0\n",
      "https://www.indeed.com/jobs?q=data+scientist&l=San+Francisco%2C+CA&start=10\n",
      "https://www.indeed.com/jobs?q=data+scientist&l=San+Francisco%2C+CA&start=20\n",
      "https://www.indeed.com/jobs?q=data+scientist&l=San+Francisco%2C+CA&start=30\n",
      "https://www.indeed.com/jobs?q=data+scientist&l=San+Francisco%2C+CA&start=40\n",
      "https://www.indeed.com/jobs?q=data+scientist&l=San+Francisco%2C+CA&start=50\n",
      "https://www.indeed.com/jobs?q=data+scientist&l=San+Francisco%2C+CA&start=60\n",
      "https://www.indeed.com/jobs?q=data+scientist&l=San+Francisco%2C+CA&start=70\n",
      "https://www.indeed.com/jobs?q=data+scientist&l=San+Francisco%2C+CA&start=80\n",
      "https://www.indeed.com/jobs?q=data+scientist&l=San+Francisco%2C+CA&start=90\n"
     ]
    }
   ],
   "source": [
    "max_results = 100\n",
    "title_name = \"data+scientist\"\n",
    "city_name = \"San+Francisco\"\n",
    "st_name = \"CA\"\n",
    "columns = [\"city\", \"job_title\", \"company\", \"location\", \"salary\", \"description\"]\n",
    "\n",
    "city_url = \"https://www.indeed.com/jobs?q=\" + title_name + \\\n",
    "               \"&l=\" + city_name + \"%2C+\" + st_name\n",
    "page = requests.get(city_url)\n",
    "soup = BeautifulSoup(page.text, \"html.parser\")\n",
    "max_counter = extract_count(soup)\n",
    "counter = 0\n",
    "print(max_counter)\n",
    "\n",
    "job_title_list = []\n",
    "company_list = []\n",
    "location_list = []\n",
    "salary_list = []\n",
    "desc_list = []\n",
    "\n",
    "for start in range(0, max_results, 10):\n",
    "    city_url = \"https://www.indeed.com/jobs?q=\" + title_name + \\\n",
    "               \"&l=\" + city_name + \"%2C+\" + st_name + \\\n",
    "               \"&start=\" + str(start)\n",
    "    print(city_url)\n",
    "    page = requests.get(city_url)\n",
    "    soup = BeautifulSoup(page.text, \"html.parser\")\n",
    "\n",
    "    job_title_list.extend(extract_job_title(soup))\n",
    "    company_list.extend(extract_company(soup))\n",
    "    location_list.extend(extract_location(soup))\n",
    "    salary_list.extend(extract_salary(soup))\n",
    "    add_urls = extract_url(soup)\n",
    "    desc_list.extend(extract_desc(add_urls))\n",
    "    \n",
    "    # counter = len(job_title_list)\n",
    "    # if counter >= max_counter:\n",
    "    #     break\n",
    "    \n",
    "indeed_df = pd.DataFrame(list(zip(job_title_list, company_list, location_list, \n",
    "                                  salary_list, desc_list)), \n",
    "                         columns = ['job_title', 'company', 'location', 'salary', 'description'])"
   ]
  },
  {
   "cell_type": "code",
   "execution_count": 10,
   "metadata": {},
   "outputs": [],
   "source": [
    "indeed_df = indeed_df.drop_duplicates(keep=False) \n",
    "indeed_df = indeed_df.reset_index(drop=True)"
   ]
  },
  {
   "cell_type": "code",
   "execution_count": 11,
   "metadata": {},
   "outputs": [
    {
     "data": {
      "text/html": [
       "<div>\n",
       "<style scoped>\n",
       "    .dataframe tbody tr th:only-of-type {\n",
       "        vertical-align: middle;\n",
       "    }\n",
       "\n",
       "    .dataframe tbody tr th {\n",
       "        vertical-align: top;\n",
       "    }\n",
       "\n",
       "    .dataframe thead th {\n",
       "        text-align: right;\n",
       "    }\n",
       "</style>\n",
       "<table border=\"1\" class=\"dataframe\">\n",
       "  <thead>\n",
       "    <tr style=\"text-align: right;\">\n",
       "      <th></th>\n",
       "      <th>job_title</th>\n",
       "      <th>company</th>\n",
       "      <th>location</th>\n",
       "      <th>description</th>\n",
       "      <th>low_salary</th>\n",
       "      <th>high_salary</th>\n",
       "    </tr>\n",
       "  </thead>\n",
       "  <tbody>\n",
       "    <tr>\n",
       "      <th>0</th>\n",
       "      <td>Data Scientist</td>\n",
       "      <td>Seen by Indeed</td>\n",
       "      <td>None</td>\n",
       "      <td>With one application you can be considered for...</td>\n",
       "      <td>NaN</td>\n",
       "      <td>NaN</td>\n",
       "    </tr>\n",
       "    <tr>\n",
       "      <th>1</th>\n",
       "      <td>Senior Data Scientist</td>\n",
       "      <td>Freedom Financial Network</td>\n",
       "      <td>None</td>\n",
       "      <td>WHO WE ARE:\\nFreedom Financial Network is a fa...</td>\n",
       "      <td>NaN</td>\n",
       "      <td>NaN</td>\n",
       "    </tr>\n",
       "    <tr>\n",
       "      <th>2</th>\n",
       "      <td>Data Scientist</td>\n",
       "      <td>Affinity</td>\n",
       "      <td>None</td>\n",
       "      <td>Affinity is on a mission to help everyone in t...</td>\n",
       "      <td>NaN</td>\n",
       "      <td>NaN</td>\n",
       "    </tr>\n",
       "    <tr>\n",
       "      <th>3</th>\n",
       "      <td>Senior Data Scientist - Authorship</td>\n",
       "      <td>Turnitin, LLC</td>\n",
       "      <td>None</td>\n",
       "      <td>Company Description\\n\\nTurnitin is your partne...</td>\n",
       "      <td>NaN</td>\n",
       "      <td>NaN</td>\n",
       "    </tr>\n",
       "    <tr>\n",
       "      <th>4</th>\n",
       "      <td>Data Scientist</td>\n",
       "      <td>Grammarly</td>\n",
       "      <td>None</td>\n",
       "      <td>The opportunity\\n\\n\\nGrammarly empowers people...</td>\n",
       "      <td>NaN</td>\n",
       "      <td>NaN</td>\n",
       "    </tr>\n",
       "  </tbody>\n",
       "</table>\n",
       "</div>"
      ],
      "text/plain": [
       "                            job_title                    company location  \\\n",
       "0                      Data Scientist             Seen by Indeed     None   \n",
       "1               Senior Data Scientist  Freedom Financial Network     None   \n",
       "2                      Data Scientist                   Affinity     None   \n",
       "3  Senior Data Scientist - Authorship              Turnitin, LLC     None   \n",
       "4                      Data Scientist                  Grammarly     None   \n",
       "\n",
       "                                         description  low_salary  high_salary  \n",
       "0  With one application you can be considered for...         NaN          NaN  \n",
       "1  WHO WE ARE:\\nFreedom Financial Network is a fa...         NaN          NaN  \n",
       "2  Affinity is on a mission to help everyone in t...         NaN          NaN  \n",
       "3  Company Description\\n\\nTurnitin is your partne...         NaN          NaN  \n",
       "4  The opportunity\\n\\n\\nGrammarly empowers people...         NaN          NaN  "
      ]
     },
     "execution_count": 11,
     "metadata": {},
     "output_type": "execute_result"
    }
   ],
   "source": [
    "def convert_salary(sal_str, s_flag):\n",
    "    \n",
    "    sal_split = re.findall(r'\\d+', sal_str.replace(\",\", \"\"))\n",
    "    \n",
    "    if len(sal_split) == 2:\n",
    "        low_salary = int(sal_split[0])\n",
    "        high_salary = int(sal_split[1])\n",
    "    else:\n",
    "        low_salary = None\n",
    "        high_salary = None\n",
    "    \n",
    "    if s_flag == 'l':\n",
    "        salary = low_salary\n",
    "    else:\n",
    "        salary = high_salary\n",
    "    \n",
    "    return salary\n",
    "\n",
    "indeed_df['low_salary'] = indeed_df.apply(lambda x: convert_salary(x['salary'], 'l'), axis=1)\n",
    "indeed_df['high_salary'] = indeed_df.apply(lambda x: convert_salary(x['salary'], 'h'), axis=1)\n",
    "indeed_df = indeed_df.drop(columns=['salary'])\n",
    "\n",
    "indeed_df.head()                                      "
   ]
  },
  {
   "cell_type": "code",
   "execution_count": 12,
   "metadata": {},
   "outputs": [
    {
     "data": {
      "text/html": [
       "<div>\n",
       "<style scoped>\n",
       "    .dataframe tbody tr th:only-of-type {\n",
       "        vertical-align: middle;\n",
       "    }\n",
       "\n",
       "    .dataframe tbody tr th {\n",
       "        vertical-align: top;\n",
       "    }\n",
       "\n",
       "    .dataframe thead th {\n",
       "        text-align: right;\n",
       "    }\n",
       "</style>\n",
       "<table border=\"1\" class=\"dataframe\">\n",
       "  <thead>\n",
       "    <tr style=\"text-align: right;\">\n",
       "      <th></th>\n",
       "      <th>job_title</th>\n",
       "      <th>company</th>\n",
       "      <th>location</th>\n",
       "      <th>description</th>\n",
       "      <th>low_salary</th>\n",
       "      <th>high_salary</th>\n",
       "    </tr>\n",
       "  </thead>\n",
       "  <tbody>\n",
       "    <tr>\n",
       "      <th>0</th>\n",
       "      <td>Data Scientist</td>\n",
       "      <td>Seen by Indeed</td>\n",
       "      <td>None</td>\n",
       "      <td>with one application you can be considered for...</td>\n",
       "      <td>NaN</td>\n",
       "      <td>NaN</td>\n",
       "    </tr>\n",
       "    <tr>\n",
       "      <th>1</th>\n",
       "      <td>Senior Data Scientist</td>\n",
       "      <td>Freedom Financial Network</td>\n",
       "      <td>None</td>\n",
       "      <td>who we arefreedom financial network is a famil...</td>\n",
       "      <td>NaN</td>\n",
       "      <td>NaN</td>\n",
       "    </tr>\n",
       "    <tr>\n",
       "      <th>2</th>\n",
       "      <td>Data Scientist</td>\n",
       "      <td>Affinity</td>\n",
       "      <td>None</td>\n",
       "      <td>affinity is on a mission to help everyone in t...</td>\n",
       "      <td>NaN</td>\n",
       "      <td>NaN</td>\n",
       "    </tr>\n",
       "    <tr>\n",
       "      <th>3</th>\n",
       "      <td>Senior Data Scientist - Authorship</td>\n",
       "      <td>Turnitin, LLC</td>\n",
       "      <td>None</td>\n",
       "      <td>company descriptionturnitin is your partner in...</td>\n",
       "      <td>NaN</td>\n",
       "      <td>NaN</td>\n",
       "    </tr>\n",
       "    <tr>\n",
       "      <th>4</th>\n",
       "      <td>Data Scientist</td>\n",
       "      <td>Grammarly</td>\n",
       "      <td>None</td>\n",
       "      <td>the opportunitygrammarly empowers people to th...</td>\n",
       "      <td>NaN</td>\n",
       "      <td>NaN</td>\n",
       "    </tr>\n",
       "  </tbody>\n",
       "</table>\n",
       "</div>"
      ],
      "text/plain": [
       "                            job_title                    company location  \\\n",
       "0                      Data Scientist             Seen by Indeed     None   \n",
       "1               Senior Data Scientist  Freedom Financial Network     None   \n",
       "2                      Data Scientist                   Affinity     None   \n",
       "3  Senior Data Scientist - Authorship              Turnitin, LLC     None   \n",
       "4                      Data Scientist                  Grammarly     None   \n",
       "\n",
       "                                         description  low_salary  high_salary  \n",
       "0  with one application you can be considered for...         NaN          NaN  \n",
       "1  who we arefreedom financial network is a famil...         NaN          NaN  \n",
       "2  affinity is on a mission to help everyone in t...         NaN          NaN  \n",
       "3  company descriptionturnitin is your partner in...         NaN          NaN  \n",
       "4  the opportunitygrammarly empowers people to th...         NaN          NaN  "
      ]
     },
     "execution_count": 12,
     "metadata": {},
     "output_type": "execute_result"
    }
   ],
   "source": [
    "def clean_text(text):\n",
    "    text = text.replace('\\\\n', ' ')               # remove newline\n",
    "    text = BeautifulSoup(text, \"lxml\").get_text() # remove html\n",
    "    text = text.replace('/', ' ')                 # remove forward slashes\n",
    "    text = re.sub(r'[^a-zA-Z ^0-9]', '', text)    # letters and numbers only\n",
    "    text = text.lower()                           # lower case\n",
    "    text = re.sub(r'(x.[0-9])', '', text)         # remove special characters\n",
    "    return text\n",
    "\n",
    "indeed_df['description'] = indeed_df.apply(lambda x: clean_text(x['description']), axis=1)\n",
    "\n",
    "indeed_df.head()"
   ]
  },
  {
   "cell_type": "code",
   "execution_count": 13,
   "metadata": {},
   "outputs": [
    {
     "data": {
      "text/plain": [
       "'with one application you can be considered for thousands of tech roles from leading companies on seenseen by indeed is a free service that connects you to opportunities that take you further in your careerjoin today to be seen and make your mark in your next tech rolewith just one application well show you off to hundreds of employers once your profile is approvedseen matches you to opportunities based off where youve been and where you want to go in your careertalk to career coaches for free to help you set your best foot forward whether it be during the interview process or during a promotionby creating an account you agree to indeeds terms of service cookie policy and privacy policy'"
      ]
     },
     "execution_count": 13,
     "metadata": {},
     "output_type": "execute_result"
    }
   ],
   "source": [
    "indeed_df['description'][0]"
   ]
  },
  {
   "cell_type": "code",
   "execution_count": 15,
   "metadata": {},
   "outputs": [
    {
     "data": {
      "text/plain": [
       "'the opportunitygrammarly empowers people to thrive and connect whenever and wherever they communicate more than 20 million people around the world use our aipowered writing assistant every day all of this begins with our team collaborating in a valuesdriven and learningoriented environmentwere looking for a data scientist to help us drive decisionmaking find bigger opportunities and improve our product as a consumer internet company we produce huge amounts of data and in this role you will have outsize opportunities to develop the insights to make it actionable you will have broad impact and exposure across grammarly working with team members from our product research marketing engineering and finance teamsgrammarlys engineers and researchers have the freedom to innovate and uncover breakthroughsand in turn influence our product roadmap the complexity of our technical challenges is growing rapidly as we scale our interfaces algorithms and infrastructure read more about our stack or hear from our team on our technical blogyour impactas a data scientist at grammarly you will help our team make better decisions by advocating for datadriven approaches across the organization your analysis will contribute to our strategy across the business in areas such as user acquisition engagement retention and morewithin your first month you will start developing a good understanding of the overall dataprocessing pipeline understand a subset of grammarlys key metrics and complete at least two small data reports to present to relevant business ownersby month three you will become an expert user of our analytical tools start contributing to the data science teams projects understand all of grammarlys key metrics and independently work on smalltomediumcomplexity data projects including a b tests channel analysis and user engagementby month six you will start working independently on complex data projects such as user segmentation short and longterm userengagement analysis and lifetime value projectionsby year one you will become the goto person and subjectmatter expert for a few of grammarlys key metrics own and drive projects independently with minimal supervision and along with our other data scientists ensure data science excellence at grammarly dashboards highquality reports empowered teams etcwere looking for someone whoembodies our eager valuesis ethical adaptable gritty empathetic and remarkableholds a phd in a quantitative field or a masters in a quantitative field and has at least 3 years of experience working as a data scientisthas experience in data analysis a b testing retention tracking etc consumer product experience is preferredis proficient in data mining and statisticshas experience with sql as well as experience programming in python r scala or an equivalent languagehas strong analytical and critical thinking skills as well as a strong bias toward actionable insights loves finding insights and getting others to act on themis a selfstarter with superior organizational and prioritization skillssupport for you professionally and personallyprofessional growth we hire people we trust and we give team members autonomy to do their best work we also support professional development with training coaching and regular feedbacka connected team grammarly builds products that help people connect and we apply this mindset to our own team we have a highly collaborative culture supported by our eager values we also take time to celebrate our colleagues and accomplishments with global local and teamspecific events and programscomprehensive benefits grammarly offers all team members competitive pay along with a benefits package that includes superior health care we also offer ample and defined time off catered lunches gym and recreation stipends admission discounts and morewe encourage you to applyat grammarly we value our differences and we encourage allespecially those whose identities are traditionally underrepresented in tech organizationsto apply we do not discriminate on the basis of race religion color gender expression or identity sexual orientation national origin citizenship age marital status veteran status disability status or any other characteristic protected by law grammarly will consider qualified applicants with criminal histories in a manner consistent with the san francisco fair chance ordinance grammarly is an equal opportunity employer and participant in the us federal everify program'"
      ]
     },
     "execution_count": 15,
     "metadata": {},
     "output_type": "execute_result"
    }
   ],
   "source": [
    "indeed_df['description'][4]"
   ]
  },
  {
   "cell_type": "code",
   "execution_count": null,
   "metadata": {},
   "outputs": [],
   "source": []
  }
 ],
 "metadata": {
  "kernelspec": {
   "display_name": "nlp-1 (Python3)",
   "language": "python",
   "name": "nlp-1"
  },
  "language_info": {
   "codemirror_mode": {
    "name": "ipython",
    "version": 3
   },
   "file_extension": ".py",
   "mimetype": "text/x-python",
   "name": "python",
   "nbconvert_exporter": "python",
   "pygments_lexer": "ipython3",
   "version": "3.7.0"
  }
 },
 "nbformat": 4,
 "nbformat_minor": 2
}
